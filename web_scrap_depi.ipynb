{
  "nbformat": 4,
  "nbformat_minor": 0,
  "metadata": {
    "colab": {
      "provenance": []
    },
    "kernelspec": {
      "name": "python3",
      "display_name": "Python 3"
    },
    "language_info": {
      "name": "python"
    }
  },
  "cells": [
    {
      "cell_type": "code",
      "execution_count": null,
      "metadata": {
        "colab": {
          "base_uri": "https://localhost:8080/",
          "height": 146
        },
        "id": "647eYuOPQeRv",
        "outputId": "641fd78a-6350-43b3-e56f-921887098073"
      },
      "outputs": [
        {
          "output_type": "stream",
          "name": "stdout",
          "text": [
            "[['heading', 'Web Scraping Practice'], ['heading', 'Available Products'], ['heading', 'Product Table'], ['heading', 'Watch This Video'], ['heading', 'Contact Us'], ['heading', 'Product Information'], ['heading', 'Featured Products'], ['paragraph', 'Welcome to the web scraping task! Use your skills to extract the required data from this page.'], ['paragraph', 'Sharp Objects'], ['paragraph', '£47.82'], ['paragraph', '✔ In stock'], ['paragraph', 'In a Dark, Dark Wood'], ['paragraph', '£19.63'], ['paragraph', '✔ In stock'], ['paragraph', 'The Past Never Ends'], ['paragraph', '£56.50'], ['paragraph', '✔ In stock'], ['paragraph', 'A Murder in Time'], ['paragraph', '£16.64'], ['paragraph', ' Out stock'], ['paragraph', 'Wireless Headphones'], ['paragraph', '$49.99'], ['paragraph', 'Available colors: Black, White, Blue'], ['paragraph', 'Smart Speaker'], ['paragraph', '$89.99'], ['paragraph', 'Available colors: Grey, Black'], ['paragraph', 'Smart Watch'], ['paragraph', '$149.99'], ['paragraph', 'Available colors: Black, Silver, Gold'], ['paragraph', '© 2024 Web Scraping Practice. All Rights Reserved.'], ['list', 'Laptop'], ['list', 'Smartphone'], ['list', 'Tablet'], ['list', 'Smartwatch']]\n"
          ]
        },
        {
          "output_type": "display_data",
          "data": {
            "text/plain": [
              "<IPython.core.display.Javascript object>"
            ],
            "application/javascript": [
              "\n",
              "    async function download(id, filename, size) {\n",
              "      if (!google.colab.kernel.accessAllowed) {\n",
              "        return;\n",
              "      }\n",
              "      const div = document.createElement('div');\n",
              "      const label = document.createElement('label');\n",
              "      label.textContent = `Downloading \"${filename}\": `;\n",
              "      div.appendChild(label);\n",
              "      const progress = document.createElement('progress');\n",
              "      progress.max = size;\n",
              "      div.appendChild(progress);\n",
              "      document.body.appendChild(div);\n",
              "\n",
              "      const buffers = [];\n",
              "      let downloaded = 0;\n",
              "\n",
              "      const channel = await google.colab.kernel.comms.open(id);\n",
              "      // Send a message to notify the kernel that we're ready.\n",
              "      channel.send({})\n",
              "\n",
              "      for await (const message of channel.messages) {\n",
              "        // Send a message to notify the kernel that we're ready.\n",
              "        channel.send({})\n",
              "        if (message.buffers) {\n",
              "          for (const buffer of message.buffers) {\n",
              "            buffers.push(buffer);\n",
              "            downloaded += buffer.byteLength;\n",
              "            progress.value = downloaded;\n",
              "          }\n",
              "        }\n",
              "      }\n",
              "      const blob = new Blob(buffers, {type: 'application/binary'});\n",
              "      const a = document.createElement('a');\n",
              "      a.href = window.URL.createObjectURL(blob);\n",
              "      a.download = filename;\n",
              "      div.appendChild(a);\n",
              "      a.click();\n",
              "      div.remove();\n",
              "    }\n",
              "  "
            ]
          },
          "metadata": {}
        },
        {
          "output_type": "display_data",
          "data": {
            "text/plain": [
              "<IPython.core.display.Javascript object>"
            ],
            "application/javascript": [
              "download(\"download_0d967c09-17a9-42d4-bc55-bc81349cf1c8\", \"Extract_Text_data.csv\", 993)"
            ]
          },
          "metadata": {}
        },
        {
          "output_type": "stream",
          "name": "stdout",
          "text": [
            "[['Laptop', '$1000', 'Yes'], ['Smartphone', '$800', 'No'], ['Tablet', '$500', 'Yes']]\n"
          ]
        },
        {
          "output_type": "display_data",
          "data": {
            "text/plain": [
              "<IPython.core.display.Javascript object>"
            ],
            "application/javascript": [
              "\n",
              "    async function download(id, filename, size) {\n",
              "      if (!google.colab.kernel.accessAllowed) {\n",
              "        return;\n",
              "      }\n",
              "      const div = document.createElement('div');\n",
              "      const label = document.createElement('label');\n",
              "      label.textContent = `Downloading \"${filename}\": `;\n",
              "      div.appendChild(label);\n",
              "      const progress = document.createElement('progress');\n",
              "      progress.max = size;\n",
              "      div.appendChild(progress);\n",
              "      document.body.appendChild(div);\n",
              "\n",
              "      const buffers = [];\n",
              "      let downloaded = 0;\n",
              "\n",
              "      const channel = await google.colab.kernel.comms.open(id);\n",
              "      // Send a message to notify the kernel that we're ready.\n",
              "      channel.send({})\n",
              "\n",
              "      for await (const message of channel.messages) {\n",
              "        // Send a message to notify the kernel that we're ready.\n",
              "        channel.send({})\n",
              "        if (message.buffers) {\n",
              "          for (const buffer of message.buffers) {\n",
              "            buffers.push(buffer);\n",
              "            downloaded += buffer.byteLength;\n",
              "            progress.value = downloaded;\n",
              "          }\n",
              "        }\n",
              "      }\n",
              "      const blob = new Blob(buffers, {type: 'application/binary'});\n",
              "      const a = document.createElement('a');\n",
              "      a.href = window.URL.createObjectURL(blob);\n",
              "      a.download = filename;\n",
              "      div.appendChild(a);\n",
              "      a.click();\n",
              "      div.remove();\n",
              "    }\n",
              "  "
            ]
          },
          "metadata": {}
        },
        {
          "output_type": "display_data",
          "data": {
            "text/plain": [
              "<IPython.core.display.Javascript object>"
            ],
            "application/javascript": [
              "download(\"download_491d5987-9c7d-477a-9e18-a0f1d7aaa06f\", \"Extract_Table_data.csv\", 88)"
            ]
          },
          "metadata": {}
        },
        {
          "output_type": "stream",
          "name": "stdout",
          "text": [
            "[{'book_title': None, 'price': None, 'stock_availability': None, 'button_text': 'Add to basket'}, {'book_title': None, 'price': None, 'stock_availability': None, 'button_text': 'Add to basket'}, {'book_title': None, 'price': None, 'stock_availability': None, 'button_text': 'Add to basket'}, {'book_title': None, 'price': None, 'stock_availability': None, 'button_text': 'Add to basket'}, {'book_title': None, 'price': None, 'stock_availability': None, 'button_text': 'Add to basket'}, {'book_title': None, 'price': None, 'stock_availability': None, 'button_text': 'Add to Basket'}, {'book_title': None, 'price': None, 'stock_availability': None, 'button_text': 'Add to Basket'}, {'book_title': None, 'price': None, 'stock_availability': None, 'button_text': 'Add to Basket'}, {'book_title': None, 'price': None, 'stock_availability': None, 'button_text': 'Add to Basket'}, {'book_title': None, 'price': None, 'stock_availability': None, 'button_text': None}]\n"
          ]
        },
        {
          "output_type": "display_data",
          "data": {
            "text/plain": [
              "<IPython.core.display.Javascript object>"
            ],
            "application/javascript": [
              "\n",
              "    async function download(id, filename, size) {\n",
              "      if (!google.colab.kernel.accessAllowed) {\n",
              "        return;\n",
              "      }\n",
              "      const div = document.createElement('div');\n",
              "      const label = document.createElement('label');\n",
              "      label.textContent = `Downloading \"${filename}\": `;\n",
              "      div.appendChild(label);\n",
              "      const progress = document.createElement('progress');\n",
              "      progress.max = size;\n",
              "      div.appendChild(progress);\n",
              "      document.body.appendChild(div);\n",
              "\n",
              "      const buffers = [];\n",
              "      let downloaded = 0;\n",
              "\n",
              "      const channel = await google.colab.kernel.comms.open(id);\n",
              "      // Send a message to notify the kernel that we're ready.\n",
              "      channel.send({})\n",
              "\n",
              "      for await (const message of channel.messages) {\n",
              "        // Send a message to notify the kernel that we're ready.\n",
              "        channel.send({})\n",
              "        if (message.buffers) {\n",
              "          for (const buffer of message.buffers) {\n",
              "            buffers.push(buffer);\n",
              "            downloaded += buffer.byteLength;\n",
              "            progress.value = downloaded;\n",
              "          }\n",
              "        }\n",
              "      }\n",
              "      const blob = new Blob(buffers, {type: 'application/binary'});\n",
              "      const a = document.createElement('a');\n",
              "      a.href = window.URL.createObjectURL(blob);\n",
              "      a.download = filename;\n",
              "      div.appendChild(a);\n",
              "      a.click();\n",
              "      div.remove();\n",
              "    }\n",
              "  "
            ]
          },
          "metadata": {}
        },
        {
          "output_type": "display_data",
          "data": {
            "text/plain": [
              "<IPython.core.display.Javascript object>"
            ],
            "application/javascript": [
              "download(\"download_21692eab-6cfb-4d36-9e5f-c8dc4112293e\", \"Product_Information.json\", 1381)"
            ]
          },
          "metadata": {}
        },
        {
          "output_type": "stream",
          "name": "stdout",
          "text": [
            "[{'field_name': 'username', 'input_type': 'text', 'default_value': 'None'}, {'field_name': 'password', 'input_type': 'password', 'default_value': 'None'}, {'field_name': 'terms', 'input_type': 'checkbox', 'default_value': 'None'}, {'field_name': None, 'input_type': 'submit', 'default_value': 'Submit'}]\n"
          ]
        },
        {
          "output_type": "display_data",
          "data": {
            "text/plain": [
              "<IPython.core.display.Javascript object>"
            ],
            "application/javascript": [
              "\n",
              "    async function download(id, filename, size) {\n",
              "      if (!google.colab.kernel.accessAllowed) {\n",
              "        return;\n",
              "      }\n",
              "      const div = document.createElement('div');\n",
              "      const label = document.createElement('label');\n",
              "      label.textContent = `Downloading \"${filename}\": `;\n",
              "      div.appendChild(label);\n",
              "      const progress = document.createElement('progress');\n",
              "      progress.max = size;\n",
              "      div.appendChild(progress);\n",
              "      document.body.appendChild(div);\n",
              "\n",
              "      const buffers = [];\n",
              "      let downloaded = 0;\n",
              "\n",
              "      const channel = await google.colab.kernel.comms.open(id);\n",
              "      // Send a message to notify the kernel that we're ready.\n",
              "      channel.send({})\n",
              "\n",
              "      for await (const message of channel.messages) {\n",
              "        // Send a message to notify the kernel that we're ready.\n",
              "        channel.send({})\n",
              "        if (message.buffers) {\n",
              "          for (const buffer of message.buffers) {\n",
              "            buffers.push(buffer);\n",
              "            downloaded += buffer.byteLength;\n",
              "            progress.value = downloaded;\n",
              "          }\n",
              "        }\n",
              "      }\n",
              "      const blob = new Blob(buffers, {type: 'application/binary'});\n",
              "      const a = document.createElement('a');\n",
              "      a.href = window.URL.createObjectURL(blob);\n",
              "      a.download = filename;\n",
              "      div.appendChild(a);\n",
              "      a.click();\n",
              "      div.remove();\n",
              "    }\n",
              "  "
            ]
          },
          "metadata": {}
        },
        {
          "output_type": "display_data",
          "data": {
            "text/plain": [
              "<IPython.core.display.Javascript object>"
            ],
            "application/javascript": [
              "download(\"download_03f721a8-1ed1-4557-824a-a0b22fe35731\", \"Form_Details.json\", 441)"
            ]
          },
          "metadata": {}
        },
        {
          "output_type": "stream",
          "name": "stdout",
          "text": [
            "{'hyperlinks': [], 'video_links': [{'video_link': 'https://www.youtube.com/watch?v=ujf9RNuBdCU'}]}\n"
          ]
        },
        {
          "output_type": "display_data",
          "data": {
            "text/plain": [
              "<IPython.core.display.Javascript object>"
            ],
            "application/javascript": [
              "\n",
              "    async function download(id, filename, size) {\n",
              "      if (!google.colab.kernel.accessAllowed) {\n",
              "        return;\n",
              "      }\n",
              "      const div = document.createElement('div');\n",
              "      const label = document.createElement('label');\n",
              "      label.textContent = `Downloading \"${filename}\": `;\n",
              "      div.appendChild(label);\n",
              "      const progress = document.createElement('progress');\n",
              "      progress.max = size;\n",
              "      div.appendChild(progress);\n",
              "      document.body.appendChild(div);\n",
              "\n",
              "      const buffers = [];\n",
              "      let downloaded = 0;\n",
              "\n",
              "      const channel = await google.colab.kernel.comms.open(id);\n",
              "      // Send a message to notify the kernel that we're ready.\n",
              "      channel.send({})\n",
              "\n",
              "      for await (const message of channel.messages) {\n",
              "        // Send a message to notify the kernel that we're ready.\n",
              "        channel.send({})\n",
              "        if (message.buffers) {\n",
              "          for (const buffer of message.buffers) {\n",
              "            buffers.push(buffer);\n",
              "            downloaded += buffer.byteLength;\n",
              "            progress.value = downloaded;\n",
              "          }\n",
              "        }\n",
              "      }\n",
              "      const blob = new Blob(buffers, {type: 'application/binary'});\n",
              "      const a = document.createElement('a');\n",
              "      a.href = window.URL.createObjectURL(blob);\n",
              "      a.download = filename;\n",
              "      div.appendChild(a);\n",
              "      a.click();\n",
              "      div.remove();\n",
              "    }\n",
              "  "
            ]
          },
          "metadata": {}
        },
        {
          "output_type": "display_data",
          "data": {
            "text/plain": [
              "<IPython.core.display.Javascript object>"
            ],
            "application/javascript": [
              "download(\"download_af8c1134-84a9-4994-96e7-3d6e992be9f9\", \"Links_and_Multimedia.json\", 144)"
            ]
          },
          "metadata": {}
        },
        {
          "output_type": "stream",
          "name": "stdout",
          "text": [
            "[{'id': '101', 'name': 'Wireless Headphones', 'price': '$49.99', 'colors': 'Available colors: Black, White, Blue'}, {'id': '102', 'name': 'Smart Speaker', 'price': '$89.99', 'colors': 'Available colors: Grey, Black'}, {'id': '103', 'name': 'Smart Watch', 'price': '$149.99', 'colors': 'Available colors: Black, Silver, Gold'}]\n"
          ]
        },
        {
          "output_type": "display_data",
          "data": {
            "text/plain": [
              "<IPython.core.display.Javascript object>"
            ],
            "application/javascript": [
              "\n",
              "    async function download(id, filename, size) {\n",
              "      if (!google.colab.kernel.accessAllowed) {\n",
              "        return;\n",
              "      }\n",
              "      const div = document.createElement('div');\n",
              "      const label = document.createElement('label');\n",
              "      label.textContent = `Downloading \"${filename}\": `;\n",
              "      div.appendChild(label);\n",
              "      const progress = document.createElement('progress');\n",
              "      progress.max = size;\n",
              "      div.appendChild(progress);\n",
              "      document.body.appendChild(div);\n",
              "\n",
              "      const buffers = [];\n",
              "      let downloaded = 0;\n",
              "\n",
              "      const channel = await google.colab.kernel.comms.open(id);\n",
              "      // Send a message to notify the kernel that we're ready.\n",
              "      channel.send({})\n",
              "\n",
              "      for await (const message of channel.messages) {\n",
              "        // Send a message to notify the kernel that we're ready.\n",
              "        channel.send({})\n",
              "        if (message.buffers) {\n",
              "          for (const buffer of message.buffers) {\n",
              "            buffers.push(buffer);\n",
              "            downloaded += buffer.byteLength;\n",
              "            progress.value = downloaded;\n",
              "          }\n",
              "        }\n",
              "      }\n",
              "      const blob = new Blob(buffers, {type: 'application/binary'});\n",
              "      const a = document.createElement('a');\n",
              "      a.href = window.URL.createObjectURL(blob);\n",
              "      a.download = filename;\n",
              "      div.appendChild(a);\n",
              "      a.click();\n",
              "      div.remove();\n",
              "    }\n",
              "  "
            ]
          },
          "metadata": {}
        },
        {
          "output_type": "display_data",
          "data": {
            "text/plain": [
              "<IPython.core.display.Javascript object>"
            ],
            "application/javascript": [
              "download(\"download_6b255252-65aa-4367-9f82-3d87ccfddc86\", \"featured_products.json\", 454)"
            ]
          },
          "metadata": {}
        }
      ],
      "source": [
        "import requests\n",
        "import csv\n",
        "import json\n",
        "from bs4 import BeautifulSoup\n",
        "from google.colab import files\n",
        "url=\"https://www.baraasallout.com/test.html\"\n",
        "respose=requests.get(url)\n",
        "soup=BeautifulSoup(respose.text,\"html.parser\")\n",
        "\n",
        "\n",
        "h1_list=soup.find_all(\"h1\")\n",
        "h2_list=soup.find_all(\"h2\")\n",
        "p_list=soup.find_all(\"p\")\n",
        "li_list=soup.find_all(\"li\")\n",
        "data=[]\n",
        "for h1_tag in h1_list:\n",
        "    data.append([\"heading\",h1_tag.text])\n",
        "for h2_tag in h2_list:\n",
        "    data.append([\"heading\",h2_tag.text])\n",
        "for p_tag in p_list:\n",
        "        data.append([\"paragraph\",p_tag.text])\n",
        "for li_tag in li_list:\n",
        "    data.append([\"list\",li_tag.text])\n",
        "print(data)\n",
        "\n",
        "\n",
        "with open(\"Extract_Text_data.csv\",\"w\") as file:\n",
        "  writer=csv.writer(file)\n",
        "  writer.writerow([\"Type\",\"Content\"])\n",
        "  writer.writerows(data)\n",
        "files.download(\"Extract_Text_data.csv\")\n",
        "table_data = []\n",
        "table_list = soup.find_all('table')\n",
        "if table_list:\n",
        "  for table in table_list:\n",
        "    rows = table.find_all('tr')\n",
        "    for row in rows:\n",
        "        columns = row.find_all('td')\n",
        "        if len(columns) > 0:\n",
        "            product_name = columns[0].text\n",
        "            price = columns[1].text\n",
        "            stock_status = columns[2].text\n",
        "            table_data.append([product_name, price, stock_status])\n",
        "print(table_data)\n",
        "with open(\"Extract_Table_data.csv\", \"w\") as file:\n",
        "    writer = csv.writer(file)\n",
        "    writer.writerow([\"Product Name\", \"Price\", \"Stock Status\"])\n",
        "    writer.writerows(table_data)\n",
        "files.download(\"Extract_Table_data.csv\")\n",
        "\n",
        "\n",
        "product_info = []\n",
        "cards_section = soup.find_all('div')\n",
        "for card in cards_section:\n",
        "    book_title_tag = card.find('h3')\n",
        "    if book_title_tag:\n",
        "        book_title = book_title_tag.text\n",
        "    else:\n",
        "        book_title = None\n",
        "\n",
        "    price_tag = card.find('span', class_='price')\n",
        "    if price_tag:\n",
        "        price = price_tag.text\n",
        "    else:\n",
        "        price = None\n",
        "\n",
        "    stock_tag = card.find('span', class_='stock')\n",
        "    if stock_tag:\n",
        "        stock_availability = stock_tag.text\n",
        "    else:\n",
        "        stock_availability = None\n",
        "\n",
        "    button_tag = card.find('button')\n",
        "    if button_tag:\n",
        "        button_text = button_tag.text\n",
        "    else:\n",
        "        button_text = None\n",
        "\n",
        "    product_info.append({\n",
        "        'book_title': book_title,\n",
        "        'price': price,\n",
        "        'stock_availability': stock_availability,\n",
        "        'button_text': button_text\n",
        "    })\n",
        "print(product_info)\n",
        "with open('Product_Information.json', 'w', ) as file:\n",
        "    json.dump(product_info, file, ensure_ascii=False, indent=4)\n",
        "files.download('Product_Information.json')\n",
        "\n",
        "\n",
        "form_details = []\n",
        "form = soup.find('form')\n",
        "if form:\n",
        "    inputs = form.find_all('input')\n",
        "    for input_tag in inputs:\n",
        "        field_name = input_tag.get('name')\n",
        "        input_type = input_tag.get('type')\n",
        "        default_value = input_tag.get('value', 'None')\n",
        "        form_details.append({\n",
        "            'field_name': field_name,\n",
        "            'input_type': input_type,\n",
        "            'default_value': default_value\n",
        "        })\n",
        "print(form_details)\n",
        "with open('Form_Details.json', 'w', encoding='utf-8') as file:\n",
        "    json.dump(form_details, file, ensure_ascii=False, indent=4)\n",
        "files.download('Form_Details.json')\n",
        "\n",
        "\n",
        "links_data = []\n",
        "for link in soup.find_all('a', href=True):\n",
        "    links_data.append({\n",
        "        'link_text': link.text,\n",
        "        'href': link['href']\n",
        "    })\n",
        "\n",
        "video_links = []\n",
        "for iframe in soup.find_all('iframe'):\n",
        "    video_links.append({\n",
        "        'video_link': iframe['src']\n",
        "    })\n",
        "\n",
        "all_links = {\n",
        "    'hyperlinks': links_data,\n",
        "    'video_links': video_links\n",
        "}\n",
        "print(all_links)\n",
        "with open('Links_and_Multimedia.json', 'w', encoding='utf-8') as file:\n",
        "    json.dump(all_links, file, ensure_ascii=False, indent=4)\n",
        "files.download('Links_and_Multimedia.json')\n",
        "\n",
        "\n",
        "featured_products = []\n",
        "for product in soup.find_all('div', class_='product-card'):\n",
        "    if product.find_all( class_='name') and product.find(class_='price', style='display: none;') and product.find(class_='colors'):\n",
        "        name = product.find( class_='name').text\n",
        "        price = product.find(class_='price', style='display: none;').text\n",
        "        colors = product.find(class_='colors').text\n",
        "        product_id = product['data-id']\n",
        "\n",
        "        featured_products.append({'id': product_id, 'name': name, 'price': price, 'colors': colors})\n",
        "print(featured_products)\n",
        "with open('featured_products.json', 'w', encoding='utf-8') as file:\n",
        "  json.dump(featured_products, file, ensure_ascii=False, indent=4)\n",
        "files.download('featured_products.json')\n",
        "\n",
        "\n"
      ]
    },
    {
      "cell_type": "code",
      "source": [],
      "metadata": {
        "id": "D8spm1SPPvP6"
      },
      "execution_count": null,
      "outputs": []
    }
  ]
}